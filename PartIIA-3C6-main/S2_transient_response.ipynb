{
 "cells": [
  {
   "cell_type": "markdown",
   "metadata": {},
   "source": [
    "# S2 Transient Response\n",
    "\n",
    "3C6 Section 2: transient response of a string from deformed initial conditions\n",
    "\n",
    "## imports and definitions"
   ]
  },
  {
   "cell_type": "code",
   "execution_count": null,
   "metadata": {},
   "outputs": [],
   "source": [
    "import numpy as np\n",
    "import matplotlib\n",
    "import matplotlib.pyplot as plt\n",
    "import matplotlib.animation as animation\n",
    "matplotlib.rcParams.update({'font.size': 12,'font.family':'serif'})\n",
    "\n",
    "from IPython.display import HTML"
   ]
  },
  {
   "cell_type": "code",
   "execution_count": null,
   "metadata": {},
   "outputs": [],
   "source": [
    "%matplotlib inline"
   ]
  },
  {
   "cell_type": "markdown",
   "metadata": {},
   "source": [
    "## Define string class"
   ]
  },
  {
   "cell_type": "code",
   "execution_count": null,
   "metadata": {},
   "outputs": [],
   "source": [
    "class String:\n",
    "    def __init__(self,pos=0.2,Nmodes = 3):\n",
    "        self.L = 1\n",
    "        self.c = 1\n",
    "        self.Y0 = 0.1\n",
    "        self.a = pos*self.L\n",
    "        self.T = self.L/self.c\n",
    "        self.Nx = np.int16(1e3)\n",
    "        self.Nmodes = np.int32(Nmodes)\n",
    "\n",
    "        self.x = np.linspace(0,self.L,self.Nx)\n",
    "    \n",
    "    def calculate_response(self,t):\n",
    "        x  = self.x\n",
    "        L  = self.L\n",
    "        c  = self.c\n",
    "        Y0 = self.Y0\n",
    "        a  = self.a \n",
    "        y  = 0\n",
    "        for nx in range(1,self.Nmodes+1):\n",
    "            y = y + 2*Y0*L**2*np.sin(nx*np.pi*a/L) / (nx**2*np.pi**2*a*(L-a)) * np.sin(nx*np.pi*x/L) * np.cos(nx*np.pi*c*t/L)\n",
    "\n",
    "        return x,y\n",
    " \n",
    "    "
   ]
  },
  {
   "cell_type": "markdown",
   "metadata": {},
   "source": [
    "## Initialise string\n",
    "\n",
    "Select pluck position 'pos' (as a fraction of string length) and number of modes 'Nmodes' to include in the response"
   ]
  },
  {
   "cell_type": "code",
   "execution_count": null,
   "metadata": {},
   "outputs": [],
   "source": [
    "s = String(pos = 0.2, Nmodes = 100)"
   ]
  },
  {
   "cell_type": "markdown",
   "metadata": {},
   "source": [
    "## Create animation"
   ]
  },
  {
   "cell_type": "code",
   "execution_count": null,
   "metadata": {},
   "outputs": [],
   "source": [
    " # First set up the figure, the axis, and the plot element we want to animate\n",
    "fig = plt.figure(None,figsize=(8,6),dpi=115)\n",
    "ax = plt.axes(xlim=(0, s.L), ylim=(-s.Y0, s.Y0),xlabel=\"x\",ylabel=\"y\",title=\"Number of modes = \" + str(s.Nmodes))\n",
    "#plt.close()\n",
    "\n",
    "line, = ax.plot([], [],  lw=2)\n",
    "line0, = ax.plot([],[], lw=1, color=[0.5, 0.5, 0.5])\n",
    "Nframes = np.int32(400)\n",
    "# initialization function: plot the background of each frame\n",
    "def init():\n",
    "    x,y = s.calculate_response(0)\n",
    "    line.set_data(x, y)\n",
    "    line0.set_data([0,s.L], [0,0])\n",
    "    return line,\n",
    "\n",
    "# animation function.  This is called sequentially\n",
    "def animate(nt,s,Nframes):\n",
    "    t = np.linspace(0,2*s.T,Nframes)\n",
    "    x,y = s.calculate_response(t[nt])\n",
    "    \n",
    "    line.set_data(x, y)\n",
    "    return line,\n",
    "\n",
    "# call the animator.  blit=True means only re-draw the parts that have changed.\n",
    "anim = animation.FuncAnimation(fig, animate, fargs=(s,Nframes,),init_func=init,\n",
    "                               frames=Nframes, interval=10, blit=True)"
   ]
  },
  {
   "cell_type": "code",
   "execution_count": null,
   "metadata": {},
   "outputs": [],
   "source": [
    "HTML(anim.to_html5_video())"
   ]
  },
  {
   "cell_type": "code",
   "execution_count": null,
   "metadata": {},
   "outputs": [],
   "source": []
  }
 ],
 "metadata": {
  "kernelspec": {
   "display_name": "Python 3",
   "language": "python",
   "name": "python3"
  },
  "language_info": {
   "codemirror_mode": {
    "name": "ipython",
    "version": 3
   },
   "file_extension": ".py",
   "mimetype": "text/x-python",
   "name": "python",
   "nbconvert_exporter": "python",
   "pygments_lexer": "ipython3",
   "version": "3.8.8"
  }
 },
 "nbformat": 4,
 "nbformat_minor": 2
}
