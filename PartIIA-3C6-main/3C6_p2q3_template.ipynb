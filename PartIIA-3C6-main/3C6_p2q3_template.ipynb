{
 "cells": [
  {
   "cell_type": "markdown",
   "id": "outstanding-builder",
   "metadata": {},
   "source": [
    "# Examples Paper 2 Question 3"
   ]
  },
  {
   "cell_type": "code",
   "execution_count": null,
   "id": "pleasant-signal",
   "metadata": {},
   "outputs": [],
   "source": [
    "import numpy as np\n",
    "import scipy.linalg as la"
   ]
  },
  {
   "cell_type": "code",
   "execution_count": null,
   "id": "suited-means",
   "metadata": {},
   "outputs": [],
   "source": [
    "# COMPLETE THE FOLLOWING\n",
    "\n",
    "K = np.array([[0,0],[0,0]])\n",
    "M = np.array([[0,0],[0,0]])\n"
   ]
  },
  {
   "cell_type": "code",
   "execution_count": null,
   "id": "legendary-cutting",
   "metadata": {},
   "outputs": [],
   "source": [
    "D,V = la.eigh(K,M)\n",
    "print('wn^2 = {}\\n'.format(D))"
   ]
  },
  {
   "cell_type": "code",
   "execution_count": null,
   "id": "spanish-diesel",
   "metadata": {},
   "outputs": [],
   "source": []
  }
 ],
 "metadata": {
  "kernelspec": {
   "display_name": "Python 3",
   "language": "python",
   "name": "python3"
  },
  "language_info": {
   "codemirror_mode": {
    "name": "ipython",
    "version": 3
   },
   "file_extension": ".py",
   "mimetype": "text/x-python",
   "name": "python",
   "nbconvert_exporter": "python",
   "pygments_lexer": "ipython3",
   "version": "3.8.8"
  }
 },
 "nbformat": 4,
 "nbformat_minor": 5
}
