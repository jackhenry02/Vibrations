{
 "cells": [
  {
   "cell_type": "markdown",
   "metadata": {},
   "source": [
    "# S5 cos(kL)cosh(kL)\n",
    "3C6 Section 5: beam modes and natural frequencies\n",
    "\n",
    "## imports and definitions"
   ]
  },
  {
   "cell_type": "code",
   "execution_count": null,
   "metadata": {},
   "outputs": [],
   "source": [
    "import numpy as np\n",
    "import matplotlib\n",
    "import matplotlib.pyplot as plt\n",
    "import matplotlib.animation as animation\n",
    "matplotlib.rcParams.update({'font.size': 12,'font.family':'serif'})\n",
    "\n",
    "from IPython.display import HTML\n",
    "#from IPython.core.display import display, HTML\n",
    "#display(HTML(\"<style>.container { width:90% !important; }</style>\"))"
   ]
  },
  {
   "cell_type": "code",
   "execution_count": null,
   "metadata": {},
   "outputs": [],
   "source": [
    "%matplotlib inline"
   ]
  },
  {
   "cell_type": "markdown",
   "metadata": {},
   "source": [
    "## Setup properties"
   ]
  },
  {
   "cell_type": "code",
   "execution_count": null,
   "metadata": {},
   "outputs": [],
   "source": [
    "# Parameters\n",
    "x=np.linspace(0,1,1000)\n",
    "zeroline=np.zeros_like(x)\n",
    "Nmodes=5"
   ]
  },
  {
   "cell_type": "code",
   "execution_count": null,
   "metadata": {},
   "outputs": [],
   "source": [
    "U = np.zeros((len(x),Nmodes+1))\n",
    "V = np.zeros((len(x),Nmodes+1))\n",
    "kL_set = np.zeros(Nmodes+1)\n",
    "for n in range(Nmodes+1):\n",
    "    \n",
    "    kL=(n+0.5)*np.pi\n",
    "    #  Iterate on this first approximation using Newton-Raphson\n",
    "    for iter in range(5):\n",
    "        kL=kL-(np.cos(kL)*np.cosh(kL)-1)/(np.cos(kL)*np.sinh(kL)-np.sin(kL)*np.cosh(kL));\n",
    "\n",
    "    #  Now compute mode shapes (arbitrary amplitude)\n",
    "    K1=1\n",
    "    K2=K1*(np.cosh(kL)-np.cos(kL))/(np.sin(kL)-np.sinh(kL))\n",
    "    K3=K1\n",
    "    K4=K2\n",
    "    u=K1*np.cos(kL*x)+K2*np.sin(kL*x)+K3*np.cosh(kL*x)+K4*np.sinh(kL*x)\n",
    "    U[:,n] = u\n",
    "    kL_set[n] = kL\n",
    "    "
   ]
  },
  {
   "cell_type": "code",
   "execution_count": null,
   "metadata": {},
   "outputs": [],
   "source": [
    "fig,ax = plt.subplots(Nmodes,1,figsize=(9,Nmodes*3),dpi=100)\n",
    "n = 0\n",
    "for a in ax:\n",
    "    n += 1\n",
    "    a.set_xticks([])\n",
    "    a.plot([0,1],[0,0],'k--')\n",
    "    a.autoscale(tight=True)\n",
    "    a.plot(x,U[:,n],linewidth=2)\n",
    "    a.set_title(\"Mode {}, kL = {:.4f}\".format(n,kL_set[n]))\n",
    "    \n",
    "    "
   ]
  },
  {
   "cell_type": "code",
   "execution_count": null,
   "metadata": {},
   "outputs": [],
   "source": []
  },
  {
   "cell_type": "code",
   "execution_count": null,
   "metadata": {},
   "outputs": [],
   "source": []
  }
 ],
 "metadata": {
  "kernelspec": {
   "display_name": "Python 3",
   "language": "python",
   "name": "python3"
  },
  "language_info": {
   "codemirror_mode": {
    "name": "ipython",
    "version": 3
   },
   "file_extension": ".py",
   "mimetype": "text/x-python",
   "name": "python",
   "nbconvert_exporter": "python",
   "pygments_lexer": "ipython3",
   "version": "3.8.8"
  },
  "rise": {
   "scroll": true,
   "theme": "serif"
  }
 },
 "nbformat": 4,
 "nbformat_minor": 2
}
