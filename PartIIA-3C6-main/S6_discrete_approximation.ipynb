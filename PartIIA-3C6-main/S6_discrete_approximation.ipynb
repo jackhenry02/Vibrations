{
 "cells": [
  {
   "cell_type": "markdown",
   "metadata": {
    "slideshow": {
     "slide_type": "slide"
    }
   },
   "source": [
    "# S6 Discrete Approximation\n",
    "3C6 Section 6: lumped mass string model\n",
    "\n",
    "## imports and definitions"
   ]
  },
  {
   "cell_type": "code",
   "execution_count": null,
   "metadata": {},
   "outputs": [],
   "source": [
    "import numpy as np\n",
    "import scipy.linalg as la\n",
    "import matplotlib\n",
    "import matplotlib.pyplot as plt\n",
    "import matplotlib.animation as animation\n",
    "matplotlib.rcParams.update({'font.size': 12,'font.family':'serif'})\n",
    "\n",
    "from ipywidgets import interact,widgets,Layout"
   ]
  },
  {
   "cell_type": "code",
   "execution_count": null,
   "metadata": {},
   "outputs": [],
   "source": [
    "%matplotlib notebook"
   ]
  },
  {
   "cell_type": "markdown",
   "metadata": {},
   "source": [
    "## Setup properties"
   ]
  },
  {
   "cell_type": "code",
   "execution_count": null,
   "metadata": {},
   "outputs": [],
   "source": [
    "# Parameters\n",
    "L = 1 # total length\n",
    "P = 1 # tension\n",
    "M = 1 # total mass\n",
    "\n",
    "\n",
    "plt.figure(figsize=(9,5),dpi=100)\n",
    "L1 = plt.plot(0,0,'x',label='discrete',markeredgewidth=3)\n",
    "L2 = plt.plot(0,0,'o',label='continuous')\n",
    "plt.legend(loc='lower right')\n",
    "plt.xlabel('Mode number')\n",
    "plt.ylabel('Frequency')\n",
    "\n",
    "\n",
    "def compare(N):\n",
    "    # Mass and stiffness matrices\n",
    "    m = M/N # discrete mass\n",
    "    MM = m * np.eye(N)\n",
    "    KK = np.zeros((N,N))\n",
    "    KK += np.diag(2*np.ones(N))\n",
    "    KK += np.diag(-1*np.ones(N-1),k=-1)\n",
    "    KK += np.diag(-1*np.ones(N-1),k=1)\n",
    "    KK = P/(L/(N+1)) * KK\n",
    "\n",
    "    # Natural frequencies\n",
    "    n = 1+np.arange(N)\n",
    "    f_continuous = 1/2/np.pi * n*np.pi/L * np.sqrt(P/(M/L))\n",
    "\n",
    "    D,V = la.eigh(KK,MM)\n",
    "    f_discrete = 1/2/np.pi * np.sqrt(D)\n",
    "\n",
    "    f_c_ratios = f_continuous/f_continuous[0]\n",
    "    f_d_ratios = f_discrete/f_discrete[0]\n",
    "    \n",
    "    L1[0].set_xdata(n)\n",
    "    L1[0].set_ydata(f_discrete)\n",
    "    L2[0].set_xdata(n)\n",
    "    L2[0].set_ydata(f_continuous)\n",
    "    plt.xlim([0,N+1])\n",
    "    plt.ylim([0,1.1*f_continuous[-1]])\n",
    "    plt.title(\"Number of modes = {}\".format(N))\n",
    "    \n",
    "interact(compare,N=widgets.IntSlider(min=3, max=100, step=3, value=3,layout=Layout(width='800px')))"
   ]
  },
  {
   "cell_type": "code",
   "execution_count": null,
   "metadata": {},
   "outputs": [],
   "source": []
  }
 ],
 "metadata": {
  "kernelspec": {
   "display_name": "Python 3",
   "language": "python",
   "name": "python3"
  },
  "language_info": {
   "codemirror_mode": {
    "name": "ipython",
    "version": 3
   },
   "file_extension": ".py",
   "mimetype": "text/x-python",
   "name": "python",
   "nbconvert_exporter": "python",
   "pygments_lexer": "ipython3",
   "version": "3.8.8"
  },
  "rise": {
   "scroll": true,
   "theme": "serif"
  }
 },
 "nbformat": 4,
 "nbformat_minor": 2
}
