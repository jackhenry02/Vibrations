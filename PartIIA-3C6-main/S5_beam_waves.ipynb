{
 "cells": [
  {
   "cell_type": "markdown",
   "metadata": {},
   "source": [
    "# S5 Beam Waves\n",
    "3C6 Section 5: sinusoidal and evanescent waves\n",
    "\n",
    "## imports and definitions"
   ]
  },
  {
   "cell_type": "code",
   "execution_count": null,
   "metadata": {},
   "outputs": [],
   "source": [
    "import numpy as np\n",
    "import matplotlib\n",
    "import matplotlib.pyplot as plt\n",
    "import matplotlib.animation as animation\n",
    "matplotlib.rcParams.update({'font.size': 12,'font.family':'serif'})\n",
    "\n",
    "from IPython.display import HTML"
   ]
  },
  {
   "cell_type": "code",
   "execution_count": null,
   "metadata": {},
   "outputs": [],
   "source": [
    "%matplotlib inline"
   ]
  },
  {
   "cell_type": "markdown",
   "metadata": {},
   "source": [
    "## Setup properties"
   ]
  },
  {
   "cell_type": "code",
   "execution_count": null,
   "metadata": {},
   "outputs": [],
   "source": [
    "# Parameters\n",
    "Ns = 100\n",
    "x = np.linspace(0,1,1000)\n",
    "t = np.arange(0,2*np.pi,2*np.pi/Ns)\n",
    "omega = 1\n",
    "k = 10"
   ]
  },
  {
   "cell_type": "code",
   "execution_count": null,
   "metadata": {},
   "outputs": [],
   "source": [
    "# Animation\n",
    "fig,ax = plt.subplots(2,2,figsize=(8,6),dpi=115)\n",
    "k00, = ax[0,0].plot([],[],lw=2,color=[0,0,0.8])\n",
    "k01, = ax[0,1].plot([],[],lw=2,color=[0,0,0.8])\n",
    "k10, = ax[1,0].plot([],[],lw=2,color=[0.8,0,0])\n",
    "k11, = ax[1,1].plot([],[],lw=2,color=[0.8,0,0])\n",
    "\n",
    "ax[0,0].set_title(\"$e^{-kx}$\")\n",
    "ax[0,1].set_title(\"$e^{+kx}$\")\n",
    "ax[1,0].set_title(\"$e^{-ikx}$\")\n",
    "ax[1,1].set_title(\"$e^{+ikx}$\")\n",
    "\n",
    "\n",
    "for a in ax.flat:\n",
    "    a.set_xlim(x[[0,-1]])\n",
    "    a.set_ylim([-1,1])\n",
    "    a.set_xticks([])\n",
    "    a.set_yticks([0])\n",
    "\n",
    "    \n",
    "\n",
    "def animate(n):\n",
    "    y1 = np.real(np.exp(1j*omega*t[n]) * np.exp(-k*x))\n",
    "    y2 = np.real(np.exp(1j*omega*t[n]) * np.exp(k*x)) / np.exp(k*max(x))\n",
    "    y3 = np.real(np.exp(1j*omega*t[n]) * np.exp(-1j*k*x))\n",
    "    y4 = np.real(np.exp(1j*omega*t[n]) * np.exp(1j*k*x))\n",
    "    \n",
    "    k00.set_data(x,y1)\n",
    "    k01.set_data(x,y2)\n",
    "    k10.set_data(x,y3)\n",
    "    k11.set_data(x,y4)\n",
    "    \n",
    "    return k00,k01,k10,k11\n",
    "        \n",
    "\n",
    "# call the animator.  blit=True means only re-draw the parts that have changed.\n",
    "anim = animation.FuncAnimation(fig, animate, fargs=None,\n",
    "                               frames=Ns, interval=30, blit=True)\n",
    "plt.ioff()"
   ]
  },
  {
   "cell_type": "code",
   "execution_count": null,
   "metadata": {
    "scrolled": false
   },
   "outputs": [],
   "source": [
    "HTML(anim.to_html5_video())"
   ]
  },
  {
   "cell_type": "code",
   "execution_count": null,
   "metadata": {},
   "outputs": [],
   "source": []
  },
  {
   "cell_type": "code",
   "execution_count": null,
   "metadata": {},
   "outputs": [],
   "source": []
  }
 ],
 "metadata": {
  "kernelspec": {
   "display_name": "Python 3",
   "language": "python",
   "name": "python3"
  },
  "language_info": {
   "codemirror_mode": {
    "name": "ipython",
    "version": 3
   },
   "file_extension": ".py",
   "mimetype": "text/x-python",
   "name": "python",
   "nbconvert_exporter": "python",
   "pygments_lexer": "ipython3",
   "version": "3.8.8"
  },
  "rise": {
   "scroll": true,
   "theme": "serif"
  }
 },
 "nbformat": 4,
 "nbformat_minor": 2
}
