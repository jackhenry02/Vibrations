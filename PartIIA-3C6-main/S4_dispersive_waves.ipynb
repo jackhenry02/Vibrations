{
 "cells": [
  {
   "cell_type": "markdown",
   "metadata": {},
   "source": [
    "# S4 dispersive waves\n",
    "\n",
    "3C6 Section 4: dispersive waves\n",
    "\n",
    "## imports and definitions"
   ]
  },
  {
   "cell_type": "code",
   "execution_count": null,
   "metadata": {},
   "outputs": [],
   "source": [
    "import numpy as np\n",
    "import matplotlib\n",
    "import matplotlib.pyplot as plt\n",
    "import matplotlib.animation as animation\n",
    "matplotlib.rcParams.update({'font.size': 12,'font.family':'serif'})\n",
    "\n",
    "from IPython.display import HTML"
   ]
  },
  {
   "cell_type": "code",
   "execution_count": null,
   "metadata": {},
   "outputs": [],
   "source": [
    "%matplotlib inline"
   ]
  },
  {
   "cell_type": "markdown",
   "metadata": {},
   "source": [
    "## Setup properties"
   ]
  },
  {
   "cell_type": "code",
   "execution_count": null,
   "metadata": {},
   "outputs": [],
   "source": [
    "# Parameters\n",
    "L = 1\n",
    "omega = 1\n",
    "k = 20*2*np.pi/L\n",
    "c = omega/k"
   ]
  },
  {
   "cell_type": "code",
   "execution_count": null,
   "metadata": {},
   "outputs": [],
   "source": [
    "cg = 2*c"
   ]
  },
  {
   "cell_type": "code",
   "execution_count": null,
   "metadata": {},
   "outputs": [],
   "source": [
    "Nx = 1000\n",
    "x = np.linspace(0,L*(Nx-1)/Nx,Nx)\n",
    "T = L/cg\n",
    "Ns = 200\n",
    "t = np.linspace(0,T*(Ns-1)/Ns,Ns)"
   ]
  },
  {
   "cell_type": "code",
   "execution_count": null,
   "metadata": {},
   "outputs": [],
   "source": [
    "# Animation\n",
    "fig,ax = plt.subplots(1,1,figsize=(8,6),dpi=115)\n",
    "line_env, = ax.plot([],[],lw=1,color=[0.5,0.5,0.5])\n",
    "line_wv,  = ax.plot([],[],lw=3,color=[0.8,0,0])\n",
    "ax.set_xlim(x[[0,-1]])\n",
    "ax.set_ylim([-1,1])\n",
    "\n",
    "def animate(n):\n",
    "    u = np.real(np.exp(1j*omega*t[n]) * np.exp(-1j*k*x))\n",
    "    xcgt = np.mod(x-cg*t[n],np.max(x))-np.max(x)/2\n",
    "    y0 = np.exp(-(10*xcgt)**2)\n",
    "    y = y0*u\n",
    "    line_env.set_data(x,y0)\n",
    "    line_wv.set_data(x,y)\n",
    "    return line_env,line_wv\n",
    "        \n",
    "\n",
    "# call the animator.  blit=True means only re-draw the parts that have changed.\n",
    "anim = animation.FuncAnimation(fig, animate, fargs=None,\n",
    "                               frames=Ns, interval=30, blit=True)"
   ]
  },
  {
   "cell_type": "code",
   "execution_count": null,
   "metadata": {
    "scrolled": false
   },
   "outputs": [],
   "source": [
    "HTML(anim.to_html5_video())"
   ]
  },
  {
   "cell_type": "code",
   "execution_count": null,
   "metadata": {},
   "outputs": [],
   "source": []
  },
  {
   "cell_type": "code",
   "execution_count": null,
   "metadata": {},
   "outputs": [],
   "source": []
  }
 ],
 "metadata": {
  "kernelspec": {
   "display_name": "Python 3",
   "language": "python",
   "name": "python3"
  },
  "language_info": {
   "codemirror_mode": {
    "name": "ipython",
    "version": 3
   },
   "file_extension": ".py",
   "mimetype": "text/x-python",
   "name": "python",
   "nbconvert_exporter": "python",
   "pygments_lexer": "ipython3",
   "version": "3.8.8"
  }
 },
 "nbformat": 4,
 "nbformat_minor": 2
}
