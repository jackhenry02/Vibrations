{
 "cells": [
  {
   "cell_type": "markdown",
   "metadata": {},
   "source": [
    "# S3 hammer pulse spectrum\n",
    "\n",
    "3C6 Section 3: spectrum of impulse hammer input\n",
    "\n",
    "## imports and definitions"
   ]
  },
  {
   "cell_type": "code",
   "execution_count": null,
   "metadata": {},
   "outputs": [],
   "source": [
    "import numpy as np\n",
    "import scipy.signal as ss\n",
    "import matplotlib\n",
    "import matplotlib.pyplot as plt\n",
    "import matplotlib.animation as animation\n",
    "matplotlib.rcParams.update({'font.size': 12,'font.family':'serif'})\n",
    "from ipywidgets import interact\n",
    "import time"
   ]
  },
  {
   "cell_type": "code",
   "execution_count": null,
   "metadata": {},
   "outputs": [],
   "source": [
    "%matplotlib notebook"
   ]
  },
  {
   "cell_type": "markdown",
   "metadata": {},
   "source": [
    "## Setup parameters"
   ]
  },
  {
   "cell_type": "code",
   "execution_count": null,
   "metadata": {},
   "outputs": [],
   "source": [
    "# Set up parameters\n",
    "T_pulse = 0.01\n",
    "fs = 50/T_pulse # Hz\n",
    "\n",
    "T_full = 1\n",
    "t = np.arange(0,T_full,1/fs)\n",
    "\n",
    "# Simulate hammer pulse\n",
    "freq = 1/(2*T_pulse)\n",
    "f = np.sin(2*np.pi*freq * t)\n",
    "f[t>T_pulse] = 0"
   ]
  },
  {
   "cell_type": "code",
   "execution_count": null,
   "metadata": {},
   "outputs": [],
   "source": [
    "# Simulate low pass filter\n",
    "fcL = fs/10\n",
    "[bL,aL]=ss.butter(5,fcL/(fs/2))\n",
    "f_LPF = ss.lfilter(bL,aL,f)\n",
    "\n",
    "# Simulate high pass filter\n",
    "fcH = 2\n",
    "[bH,aH] = ss.butter(1,fcH/(fs/2),'high')\n",
    "f_HPF = ss.lfilter(bH,aH,f)\n",
    "\n",
    "# Simulate combined effect\n",
    "f_observed = ss.lfilter(bH,aH,f_LPF)\n",
    "\n",
    "# Fourier Transform\n",
    "N = len(t)\n",
    "frequency_axis = np.fft.rfftfreq(N,1/fs)\n",
    "F = np.fft.rfft(f)\n",
    "F_observed = np.fft.rfft(f_observed)"
   ]
  },
  {
   "cell_type": "code",
   "execution_count": null,
   "metadata": {},
   "outputs": [],
   "source": [
    "# Plot time\n",
    "plt.figure(figsize=(9,5),dpi=100) # width, height in inches\n",
    "plt.grid()\n",
    "plt.xlabel('Time (s)')\n",
    "plt.ylabel('f(t)')\n",
    "L1 = plt.plot(t,f,'-',linewidth=2,label=\"ideal\",alpha=True)\n",
    "L3 = plt.plot(t,f_HPF,'-',linewidth=2,label=\"HPF\",alpha=False)\n",
    "L2 = plt.plot(t,f_LPF,'-',linewidth=2,label=\"LPF\",alpha=False)\n",
    "L4 = plt.plot(t,f_observed,'-',linewidth=2,label=\"observed\",alpha=False)\n",
    "\n",
    "plt.legend()\n",
    "def plot(ideal,HPF,LPF,observed):\n",
    "    L1[0].set_alpha(ideal)\n",
    "    L2[0].set_alpha(LPF)\n",
    "    L3[0].set_alpha(HPF)\n",
    "    L4[0].set_alpha(observed)\n",
    "    plt.legend()\n",
    "    \n",
    "interact(plot, ideal=True, HPF=False, LPF=False, observed=False)"
   ]
  },
  {
   "cell_type": "code",
   "execution_count": null,
   "metadata": {},
   "outputs": [],
   "source": [
    "# Plot time\n",
    "plt.figure(figsize=(9,5),dpi=100) # width, height in inches\n",
    "plt.grid()\n",
    "plt.xlabel('Frequency (Hz)')\n",
    "plt.ylabel('F')\n",
    "L1fft = plt.plot(frequency_axis,20*np.log10(np.abs(F)),'-',linewidth=2,label=\"ideal\",alpha=True)\n",
    "L2fft = plt.plot(frequency_axis,20*np.log10(np.abs(F_observed)),'-',linewidth=2,label=\"observed\",alpha=False)\n",
    "plt.ylim([-50,50])\n",
    "plt.legend()\n",
    "\n",
    "def plotfft(ideal,observed):\n",
    "    L1fft[0].set_alpha(ideal)\n",
    "    L2fft[0].set_alpha(observed)\n",
    "    plt.legend()\n",
    "    \n",
    "interact(plotfft, ideal=True, observed=False)"
   ]
  },
  {
   "cell_type": "code",
   "execution_count": null,
   "metadata": {},
   "outputs": [],
   "source": [
    "\n",
    "ax.legend()"
   ]
  },
  {
   "cell_type": "code",
   "execution_count": null,
   "metadata": {},
   "outputs": [],
   "source": []
  }
 ],
 "metadata": {
  "kernelspec": {
   "display_name": "Python 3",
   "language": "python",
   "name": "python3"
  },
  "language_info": {
   "codemirror_mode": {
    "name": "ipython",
    "version": 3
   },
   "file_extension": ".py",
   "mimetype": "text/x-python",
   "name": "python",
   "nbconvert_exporter": "python",
   "pygments_lexer": "ipython3",
   "version": "3.8.8"
  }
 },
 "nbformat": 4,
 "nbformat_minor": 2
}
