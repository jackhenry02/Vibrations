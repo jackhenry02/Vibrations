{
 "cells": [
  {
   "cell_type": "markdown",
   "metadata": {},
   "source": [
    "# S3 equal temperament\n",
    "\n",
    "3C6 Section 3: equal temperament and the major third\n",
    "\n",
    "## imports and definitions"
   ]
  },
  {
   "cell_type": "code",
   "execution_count": null,
   "metadata": {},
   "outputs": [],
   "source": [
    "import numpy as np\n",
    "import matplotlib\n",
    "import matplotlib.pyplot as plt\n",
    "import matplotlib.animation as animation\n",
    "matplotlib.rcParams.update({'font.size': 12,'font.family':'serif'})\n",
    "from ipywidgets import interact\n",
    "import time\n",
    "\n",
    "import sounddevice as sd"
   ]
  },
  {
   "cell_type": "code",
   "execution_count": null,
   "metadata": {},
   "outputs": [],
   "source": [
    "%matplotlib notebook"
   ]
  },
  {
   "cell_type": "markdown",
   "metadata": {},
   "source": [
    "## Setup parameters"
   ]
  },
  {
   "cell_type": "code",
   "execution_count": null,
   "metadata": {},
   "outputs": [],
   "source": [
    "# Parameters\n",
    "fs = 44.1e3\n",
    "T = 6\n",
    "Tc = 6\n",
    "t = np.arange(0,T,1/fs)\n",
    "z = np.zeros(np.int(T*fs/10))\n",
    "\n",
    "# A and major third: equal temperament versus 5/4\n",
    "f1 = 440\n",
    "\n",
    "y1 = np.exp(-t/Tc) * np.sin(2*np.pi*f1*t)\n",
    "y2 = np.exp(-t/Tc) * np.sin(2*np.pi*f1*5/4*t)\n",
    "y3 = np.exp(-t/Tc) * np.sin(2*np.pi*f1*2**(4/12)*t)\n",
    "\n",
    "y1 = np.concatenate((y1,z))/2\n",
    "y2 = np.concatenate((z,y2))/2\n",
    "y3 = np.concatenate((z,y3))/2"
   ]
  },
  {
   "cell_type": "code",
   "execution_count": null,
   "metadata": {},
   "outputs": [],
   "source": [
    "# by exact ratio 5/4\n",
    "sd.play(y1+y2,fs)"
   ]
  },
  {
   "cell_type": "code",
   "execution_count": null,
   "metadata": {},
   "outputs": [],
   "source": [
    "# by equal temperament:\n",
    "sd.play(y1+y3,fs)"
   ]
  },
  {
   "cell_type": "code",
   "execution_count": null,
   "metadata": {},
   "outputs": [],
   "source": []
  }
 ],
 "metadata": {
  "kernelspec": {
   "display_name": "Python 3",
   "language": "python",
   "name": "python3"
  },
  "language_info": {
   "codemirror_mode": {
    "name": "ipython",
    "version": 3
   },
   "file_extension": ".py",
   "mimetype": "text/x-python",
   "name": "python",
   "nbconvert_exporter": "python",
   "pygments_lexer": "ipython3",
   "version": "3.8.8"
  }
 },
 "nbformat": 4,
 "nbformat_minor": 2
}
