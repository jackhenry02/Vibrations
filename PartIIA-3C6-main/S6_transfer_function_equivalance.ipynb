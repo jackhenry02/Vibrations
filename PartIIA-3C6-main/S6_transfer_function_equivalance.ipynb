{
 "cells": [
  {
   "cell_type": "markdown",
   "metadata": {
    "slideshow": {
     "slide_type": "slide"
    }
   },
   "source": [
    "# S6 Transfer Function Equivalence\n",
    "3C6 Section 6: equivalence of transfer function expressions\n",
    "\n",
    "## imports and definitions"
   ]
  },
  {
   "cell_type": "code",
   "execution_count": null,
   "metadata": {},
   "outputs": [],
   "source": [
    "import numpy as np\n",
    "import scipy.linalg as la\n",
    "import matplotlib\n",
    "import matplotlib.pyplot as plt\n",
    "import matplotlib.animation as animation\n",
    "matplotlib.rcParams.update({'font.size': 12,'font.family':'serif'})\n",
    "import os\n",
    "from IPython.display import HTML, display\n",
    "from ipywidgets import Output, widgets, Layout"
   ]
  },
  {
   "cell_type": "code",
   "execution_count": null,
   "metadata": {},
   "outputs": [],
   "source": [
    "%matplotlib notebook"
   ]
  },
  {
   "cell_type": "markdown",
   "metadata": {},
   "source": [
    "## Setup properties"
   ]
  },
  {
   "cell_type": "code",
   "execution_count": null,
   "metadata": {},
   "outputs": [],
   "source": [
    "# setup parameters\n",
    "L = 1\n",
    "P = 1\n",
    "m = 1\n",
    "c = np.sqrt(P/m)\n",
    "x = 0.6*L\n",
    "a = 0.2*L\n",
    "\n",
    "w1 = np.pi*c/L\n",
    "N = 20\n",
    "\n",
    "# Create axes\n",
    "w = np.linspace(0.01,(N+1)*w1,1000)\n",
    "\n",
    "# Direct approach\n",
    "if x<a:\n",
    "    G1 = c/(w*P) * np.sin(w*(L-a)/c) * np.sin(w*x/c) / np.sin(w*L/c)\n",
    "else:\n",
    "    G1 = c/(w*P) * np.sin(w*a/c) * np.sin(w*(L-x)/c) / np.sin(w*L/c)"
   ]
  },
  {
   "cell_type": "code",
   "execution_count": null,
   "metadata": {
    "slideshow": {
     "slide_type": "slide"
    }
   },
   "outputs": [],
   "source": [
    "plt.figure(figsize=(9,5),dpi=100)\n",
    "yscale = np.percentile(20*np.log10(np.abs(G1)),[1,99]) # Get axis scaling to look ok for undamped case\n",
    "plt.ylim(yscale)\n",
    "plt.xlabel('Frequency')\n",
    "plt.ylabel('$20 \\log_{10}|G|$')\n",
    "plt.xlim([0,11*w1])\n",
    "plt.ylim([yscale[0]-10,yscale[1]+10])\n",
    "\n",
    "p1 = plt.plot([],[],linestyle='--',linewidth=2,label='direct')\n",
    "p1[0].set_data(w,20*np.log10(np.abs(G1)))\n",
    "p2 = plt.plot([],[],linewidth=2,label='modal sum')\n",
    "\n",
    "G2 = 0\n",
    "n=0\n",
    "button = widgets.Button(description=\"Add another mode\",layout=Layout(width='95%'))\n",
    "button.button_style = 'primary'\n",
    "display(button)\n",
    "\n",
    "def next_plot(b):\n",
    "    global G2,n\n",
    "    n += 1\n",
    "    G2 += 2/(m*L) * np.sin(n*np.pi*a/L) * np.sin(n*np.pi*x/L) / ((n*w1)**2 - w**2)\n",
    "    \n",
    "    p2[0].set_data(w,20*np.log10(np.abs(G2)))\n",
    "    \n",
    "    plt.title(\"number of modes = {}\".format(n))\n",
    "    plt.legend(loc='lower left')\n",
    "    if n >= 20:\n",
    "        button.layout.visibility = 'hidden'\n",
    "    \n",
    "\n",
    "button.on_click(next_plot)"
   ]
  },
  {
   "cell_type": "code",
   "execution_count": null,
   "metadata": {
    "slideshow": {
     "slide_type": "subslide"
    }
   },
   "outputs": [],
   "source": []
  },
  {
   "cell_type": "code",
   "execution_count": null,
   "metadata": {},
   "outputs": [],
   "source": []
  }
 ],
 "metadata": {
  "kernelspec": {
   "display_name": "Python 3",
   "language": "python",
   "name": "python3"
  },
  "language_info": {
   "codemirror_mode": {
    "name": "ipython",
    "version": 3
   },
   "file_extension": ".py",
   "mimetype": "text/x-python",
   "name": "python",
   "nbconvert_exporter": "python",
   "pygments_lexer": "ipython3",
   "version": "3.8.8"
  },
  "rise": {
   "scroll": true,
   "theme": "serif"
  }
 },
 "nbformat": 4,
 "nbformat_minor": 2
}
