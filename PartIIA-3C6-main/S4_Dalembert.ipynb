{
 "cells": [
  {
   "cell_type": "markdown",
   "metadata": {},
   "source": [
    "# S4 D'Alembert\n",
    "\n",
    "3C6 Section 4: transient response of a string from deformed initial conditions using D'Alembert's method.\n",
    "\n",
    "## imports and definitions"
   ]
  },
  {
   "cell_type": "code",
   "execution_count": null,
   "metadata": {},
   "outputs": [],
   "source": [
    "import numpy as np\n",
    "import matplotlib\n",
    "import matplotlib.pyplot as plt\n",
    "import matplotlib.animation as animation\n",
    "matplotlib.rcParams.update({'font.size': 12,'font.family':'serif'})\n",
    "\n",
    "from IPython.display import HTML"
   ]
  },
  {
   "cell_type": "code",
   "execution_count": null,
   "metadata": {},
   "outputs": [],
   "source": [
    "%matplotlib inline"
   ]
  },
  {
   "cell_type": "markdown",
   "metadata": {},
   "source": [
    "## Define string properties"
   ]
  },
  {
   "cell_type": "code",
   "execution_count": null,
   "metadata": {},
   "outputs": [],
   "source": [
    "# Set up parameters\n",
    "L = 1\n",
    "c = 1\n",
    "Y0 = 0.1\n",
    "a = 0.2*L"
   ]
  },
  {
   "cell_type": "code",
   "execution_count": null,
   "metadata": {},
   "outputs": [],
   "source": [
    "# Create axes\n",
    "x = np.linspace(0,2*L,1000)\n",
    "xs = 1/np.mean(np.diff(x))\n",
    "xx = np.arange(len(x))\n",
    "Ns = 100\n",
    "t = np.linspace(0,2*L/c*(Ns-1)/Ns,Ns)\n",
    "fs = 1/np.mean(np.diff(t))"
   ]
  },
  {
   "cell_type": "code",
   "execution_count": null,
   "metadata": {},
   "outputs": [],
   "source": [
    "[X,T]= np.meshgrid(x,t)\n",
    "[XX,CT]= np.meshgrid(xx,c*t*xs)"
   ]
  },
  {
   "cell_type": "code",
   "execution_count": null,
   "metadata": {},
   "outputs": [],
   "source": [
    "# D'Alembert solution\n",
    "y0 = Y0*x/a\n",
    "y0[x>a] = Y0*(L-x[x>a])/(L-a)\n",
    "y0[x>2*L-a] = Y0*(x[x>2*L-a]-2*L)/a\n",
    "\n",
    "fi = np.mod((XX-CT),len(x))\n",
    "gi = np.mod((XX+CT),len(x))\n",
    "\n",
    "f = 0.5*y0[fi.astype(int)]\n",
    "g = 0.5*y0[gi.astype(int)]\n"
   ]
  },
  {
   "cell_type": "code",
   "execution_count": null,
   "metadata": {},
   "outputs": [],
   "source": [
    "# Mirror images for plots\n",
    "x = np.concatenate((np.flip(-x), x))\n",
    "y0 = np.concatenate((y0,y0))\n",
    "f = np.concatenate((f,f),axis=1)\n",
    "g = np.concatenate((g,g),axis=1)"
   ]
  },
  {
   "cell_type": "markdown",
   "metadata": {},
   "source": [
    "## Create animation"
   ]
  },
  {
   "cell_type": "code",
   "execution_count": null,
   "metadata": {},
   "outputs": [],
   "source": [
    " # First set up the figure, the axis, and the plot element we want to animate\n",
    "fig,axs = plt.subplots(2,1,figsize=(8,6),dpi=115)\n",
    "\n",
    "for ax in axs:\n",
    "    ax.plot([-0.5*L,1.5*L],[0,0],'k--')\n",
    "    ax.plot([0,0],[-Y0,Y0],'k--')\n",
    "    ax.plot([L,L],[-Y0,Y0],'k--')\n",
    "    ax.autoscale(enable=True,tight=True)\n",
    "    \n",
    "    \n",
    "line_top_a, = axs[0].plot([], [], lw=1, color=[0.8, 0, 0])\n",
    "line_top_b, = axs[0].plot([], [], lw=3, color=[0.8, 0, 0],label='f+g')\n",
    "line_right_a, = axs[1].plot([], [], lw=1, color=[0, 0.7, 0])\n",
    "line_right_b, = axs[1].plot([], [], lw=3, color=[0, 0.7, 0],label='f')\n",
    "line_left_a, = axs[1].plot([], [], lw=1, color=[0, 0, 0.8])\n",
    "line_left_b, = axs[1].plot([], [], lw=3, color=[0, 0, 0.8],label='g')\n",
    "middle = (x>0) & (x<L)\n",
    "axs[0].legend(loc='upper right')\n",
    "axs[1].legend(loc='upper right')\n",
    "# animation function.  This is called sequentially\n",
    "def animate(nt):\n",
    "    line_top_a.set_data(x, f[nt,:]+g[nt,:])\n",
    "    line_top_b.set_data(x[middle], f[nt,middle]+g[nt,middle])\n",
    "    line_left_a.set_data(x,g[nt,:])\n",
    "    line_left_b.set_data(x[middle],g[nt,middle])\n",
    "    line_right_a.set_data(x,f[nt,:])\n",
    "    line_right_b.set_data(x[middle],f[nt,middle])\n",
    "    \n",
    "    return line_top_a,line_top_b\n",
    "    \n",
    "\n",
    "# call the animator.  blit=True means only re-draw the parts that have changed.\n",
    "anim = animation.FuncAnimation(fig, animate, fargs=None,\n",
    "                               frames=None, interval=30, blit=True)"
   ]
  },
  {
   "cell_type": "code",
   "execution_count": null,
   "metadata": {},
   "outputs": [],
   "source": [
    "HTML(anim.to_html5_video())"
   ]
  },
  {
   "cell_type": "code",
   "execution_count": null,
   "metadata": {},
   "outputs": [],
   "source": []
  }
 ],
 "metadata": {
  "kernelspec": {
   "display_name": "Python 3",
   "language": "python",
   "name": "python3"
  },
  "language_info": {
   "codemirror_mode": {
    "name": "ipython",
    "version": 3
   },
   "file_extension": ".py",
   "mimetype": "text/x-python",
   "name": "python",
   "nbconvert_exporter": "python",
   "pygments_lexer": "ipython3",
   "version": "3.8.8"
  }
 },
 "nbformat": 4,
 "nbformat_minor": 2
}
